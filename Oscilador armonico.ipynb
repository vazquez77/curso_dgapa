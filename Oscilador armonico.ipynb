{
 "cells": [
  {
   "cell_type": "markdown",
   "metadata": {},
   "source": [
    "# Oscilador armónico en 1 dimensión,\n",
    "\n",
    "Básicamente trata de una masa, $m$, anclada a un resorte con fuerza restitutiva proporcional a su posición. Entonces la fuerxa se puede modelar como:\n",
    "\n",
    "$$ m\\frac{d^2 x}{dt^2}F = -kx $$\n",
    "\n",
    "El objetivo es averiguar la solución del sistema"
   ]
  },
  {
   "cell_type": "code",
   "execution_count": 1,
   "metadata": {
    "collapsed": true
   },
   "outputs": [],
   "source": [
    "#Librerias a utilizar\n",
    "from sympy import *\n",
    "from sympy.plotting import *\n",
    "init_printing()\n",
    "%matplotlib inline"
   ]
  },
  {
   "cell_type": "code",
   "execution_count": 2,
   "metadata": {
    "collapsed": true
   },
   "outputs": [],
   "source": [
    "m,k,t = symbols('m k t')\n",
    "x = Function('x')"
   ]
  },
  {
   "cell_type": "markdown",
   "metadata": {},
   "source": [
    "Entonces la ecuacion diferencial a resolver es:\n",
    "\n",
    "$$ \\frac{d^2 x}{dt^2} + \\frac{k}{m}x=0 $$\n",
    "\n",
    "Vamos a asumir que $\\omega=\\sqrt\\frac{k}{m}$ y es positiva"
   ]
  },
  {
   "cell_type": "code",
   "execution_count": 3,
   "metadata": {
    "collapsed": false
   },
   "outputs": [
    {
     "data": {
      "image/png": "[encoded data removed]",
      "text/latex": [
       "$$x{\\left (t \\right )} = C_{1} \\sin{\\left (\\omega t \\right )} + C_{2} \\cos{\\left (\\omega t \\right )}$$"
      ],
      "text/plain": [
       "x(t) = C₁⋅sin(\\omega⋅t) + C₂⋅cos(\\omega⋅t)"
      ]
     },
     "execution_count": 3,
     "metadata": {},
     "output_type": "execute_result"
    }
   ],
   "source": [
    "w = Symbol('\\omega',positive=True)\n",
    "ec_newton=Eq(x(t).diff(t,t)+(w**2)*x(t),0)\n",
    "solucion = dsolve(ec_newton,x(t))\n",
    "solucion"
   ]
  },
  {
   "cell_type": "markdown",
   "metadata": {},
   "source": [
    "Si $x(0)=0$ entonces $\\frac{dx(0)}{dt}=1$ entonces $C_1$ y $C_2$ se denominan de la siguiente manera:"
   ]
  },
  {
   "cell_type": "code",
   "execution_count": 4,
   "metadata": {
    "collapsed": false
   },
   "outputs": [],
   "source": [
    "C1,C2 = symbols('C_1 C_2')\n",
    "#solucion.subs(t,0)\n",
    "solucion = C1*sin(w*t)+C2*cos(w*t)"
   ]
  },
  {
   "cell_type": "code",
   "execution_count": 5,
   "metadata": {
    "collapsed": false
   },
   "outputs": [
    {
     "data": {
      "image/png": "[encoded data removed]",
      "text/latex": [
       "$$C_{2}$$"
      ],
      "text/plain": [
       "C₂"
      ]
     },
     "execution_count": 5,
     "metadata": {},
     "output_type": "execute_result"
    }
   ],
   "source": [
    "solucion.subs(t,0)"
   ]
  },
  {
   "cell_type": "code",
   "execution_count": 6,
   "metadata": {
    "collapsed": false
   },
   "outputs": [
    {
     "data": {
      "image/png": "[encoded data removed]",
      "text/latex": [
       "$$C_{1} \\omega$$"
      ],
      "text/plain": [
       "C₁⋅\\omega"
      ]
     },
     "execution_count": 6,
     "metadata": {},
     "output_type": "execute_result"
    }
   ],
   "source": [
    "solucion.diff(t).subs(t,0)"
   ]
  },
  {
   "cell_type": "markdown",
   "metadata": {},
   "source": [
    "Entonces $C_2=0$ y  $C_1=\\frac{1}{\\omega}$"
   ]
  },
  {
   "cell_type": "code",
   "execution_count": 7,
   "metadata": {
    "collapsed": true
   },
   "outputs": [],
   "source": [
    "C2=0\n",
    "C1=1/w"
   ]
  },
  {
   "cell_type": "code",
   "execution_count": 8,
   "metadata": {
    "collapsed": false
   },
   "outputs": [
    {
     "data": {
      "image/png": "[encoded data removed]",
      "text/latex": [
       "$$\\frac{1}{\\omega} \\sin{\\left (\\omega t \\right )}$$"
      ],
      "text/plain": [
       "sin(\\omega⋅t)\n",
       "─────────────\n",
       "    \\omega   "
      ]
     },
     "execution_count": 8,
     "metadata": {},
     "output_type": "execute_result"
    }
   ],
   "source": [
    "sol_final=C1*sin(w*t)+C2*cos(w*t)\n",
    "sol_final"
   ]
  },
  {
   "cell_type": "markdown",
   "metadata": {},
   "source": [
    "Supongamos que $\\omega =2$"
   ]
  },
  {
   "cell_type": "code",
   "execution_count": 9,
   "metadata": {
    "collapsed": false
   },
   "outputs": [
    {
     "data": {
      "image/png": "[encoded data removed]",
      "text/latex": [
       "$$\\frac{1}{2} \\sin{\\left (2 t \\right )}$$"
      ],
      "text/plain": [
       "sin(2⋅t)\n",
       "────────\n",
       "   2    "
      ]
     },
     "execution_count": 9,
     "metadata": {},
     "output_type": "execute_result"
    }
   ],
   "source": [
    "caso1 = sol_final.subs(w,2)\n",
    "caso1"
   ]
  },
  {
   "cell_type": "code",
   "execution_count": 12,
   "metadata": {
    "collapsed": false
   },
   "outputs": [
    {
     "data": {
      "image/png": "[encoded data removed]",
      "text/plain": [
       "<matplotlib.figure.Figure at 0x7f4a3b4413d0>"
      ]
     },
     "metadata": {},
     "output_type": "display_data"
    }
   ],
   "source": [
    "g1 = plot(caso1,(t,0,5*pi),show=False,line_color='r')\n",
    "g2 = plot(caso1.diff(t),(t,0,5*pi),show=False,line_cplor='g')\n",
    "g1.extend(g2)\n",
    "g1.show()"
   ]
  },
  {
   "cell_type": "code",
   "execution_count": 11,
   "metadata": {
    "collapsed": false
   },
   "outputs": [],
   "source": [
    "#dx=solucion.diff(x)\n",
    "#dx"
   ]
  },
  {
   "cell_type": "code",
   "execution_count": null,
   "metadata": {
    "collapsed": true
   },
   "outputs": [],
   "source": []
  }
 ],
 "metadata": {
  "kernelspec": {
   "display_name": "Python [Root]",
   "language": "python",
   "name": "Python [Root]"
  },
  "language_info": {
   "codemirror_mode": {
    "name": "ipython",
    "version": 2
   },
   "file_extension": ".py",
   "mimetype": "text/x-python",
   "name": "python",
   "nbconvert_exporter": "python",
   "pygments_lexer": "ipython2",
   "version": "2.7.12"
  }
 },
 "nbformat": 4,
 "nbformat_minor": 0
}
