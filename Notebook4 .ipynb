{
 "cells": [
  {
   "cell_type": "markdown",
   "metadata": {
    "nbpresent": {
     "id": "12bc6259-dedc-4b56-846d-1137b763865f"
    },
    "slideshow": {
     "slide_type": "slide"
    }
   },
   "source": [
    "# Movimiento planetario\n",
    "\n",
    "Ing. Josué Vázquez Téllez $\n",
    "\n",
    "El movimiento planetario está ddado por la ley de gravitación universal:\n",
    "\n",
    "$$ m_p \\frac{d^2\\vec r}{dt^2} = -GM_s m_p \\frac{\\vec r}{|r|^3} $$\n",
    "\n",
    "El movimiento no depende de la masa del planeta, $m_p$, podemos hacer el cambio de variable:\n",
    "$T=\\sqrt{ \\tfrac{GM_s}{R_T ^3} }t$, $\\vec R= \\tfrac{\\vec r}{R_T}$ y la ecuación anterior queda de la siguiente manera:\n",
    "\n",
    "$$ \\frac{d^2\\vec R}{dT^2} = - \\frac{\\vec R}{|R|^3} $$\n",
    "\n",
    "* $G=6.674 \\times 10^{-11} \\tfrac{Nm^2}{kg^2}$\n",
    "\n",
    "* $M_s = 1.9891 \\times 10^{30} kg$\n",
    "\n",
    "* $R_T = 1.495 \\times 10^{11} m$"
   ]
  },
  {
   "cell_type": "markdown",
   "metadata": {
    "nbpresent": {
     "id": "0905951f-144c-4b1b-87ee-11980fe4bda5"
    },
    "slideshow": {
     "slide_type": "slide"
    }
   },
   "source": [
    "Librerías de *IPythom* que utilizamos:"
   ]
  },
  {
   "cell_type": "code",
   "execution_count": 38,
   "metadata": {
    "collapsed": true,
    "nbpresent": {
     "id": "814f3144-a46e-46ec-b356-4df5ceb31354"
    },
    "slideshow": {
     "slide_type": "fragment"
    }
   },
   "outputs": [],
   "source": [
    "from pylab import *\n",
    "from scipy.integrate import *\n",
    "%matplotlib inline"
   ]
  },
  {
   "cell_type": "code",
   "execution_count": 39,
   "metadata": {
    "collapsed": true,
    "nbpresent": {
     "id": "087f6c8d-9bdc-4e84-b4af-1a54e391447f"
    },
    "slideshow": {
     "slide_type": "subslide"
    }
   },
   "outputs": [],
   "source": [
    "def gravitacion(r_v,t):\n",
    "    # r_v = [x,y,vx,vy]\n",
    "    r = sqrt(r_v[0]**2 + r_v[1]**2)\n",
    "    dx = r_v[2]\n",
    "    dy = r_v[3]\n",
    "    dvx = -r_v[0]/r**3\n",
    "    dvy = -r_v[1]/r**3\n",
    "    return [dx,dy,dvx,dvy]"
   ]
  },
  {
   "cell_type": "code",
   "execution_count": 40,
   "metadata": {
    "collapsed": false,
    "nbpresent": {
     "id": "22474fd2-a53c-4a24-b29c-8796fdcc6620"
    },
    "slideshow": {
     "slide_type": "subslide"
    }
   },
   "outputs": [
    {
     "data": {
      "image/png": "[encoded data removed]",
      "text/plain": [
       "<matplotlib.figure.Figure at 0x7fab29d98450>"
      ]
     },
     "metadata": {},
     "output_type": "display_data"
    }
   ],
   "source": [
    "tiempo = linspace(0,2*pi)\n",
    "sol = odeint(gravitacion,[1,0,0,1],tiempo)\n",
    "x,y = sol[:,0],sol[:,1]\n",
    "xlim([-1.1,1.1]),ylim([-1.1,1.1]),axes().set_aspect('equal') # Preferencias de la grafica\n",
    "axes().set_aspect('equal')\n",
    "plot([0],[0],'o')\n",
    "plot(x,y,'o')\n",
    "show()"
   ]
  },
  {
   "cell_type": "code",
   "execution_count": 41,
   "metadata": {
    "collapsed": false,
    "nbpresent": {
     "id": "365e4fe3-a0d1-4aa0-9ea4-34a650294db6"
    },
    "slideshow": {
     "slide_type": "subslide"
    }
   },
   "outputs": [
    {
     "name": "stdout",
     "output_type": "stream",
     "text": [
      "31522470.5382 31536000\n",
      "0.999570983582\n"
     ]
    }
   ],
   "source": [
    "G = 6.674e-11\n",
    "M_s = 1.9891e30\n",
    "R_T = 1.495e11 #(1.4709829e11+1.52098232e11)/2\n",
    "Cte = sqrt((G*M_s)/(R_T**3))\n",
    "yr = 60*60*24*365\n",
    "P = (2*pi)/Cte\n",
    "print P,yr\n",
    "print P/yr"
   ]
  },
  {
   "cell_type": "code",
   "execution_count": 42,
   "metadata": {
    "collapsed": false,
    "nbpresent": {
     "id": "a05a0772-0a7e-4083-a3aa-e60753b6b2f4"
    },
    "slideshow": {
     "slide_type": "subslide"
    }
   },
   "outputs": [
    {
     "data": {
      "image/png": "[encoded data removed]",
      "text/plain": [
       "<matplotlib.figure.Figure at 0x7fab2a014f50>"
      ]
     },
     "metadata": {},
     "output_type": "display_data"
    }
   ],
   "source": [
    "tiempo = linspace(0,2*pi)\n",
    "vx = 0.5\n",
    "vy = sqrt(1-vx**2)\n",
    "sol = odeint(gravitacion,[1,0,vx,vy],tiempo)\n",
    "x,y = sol[:,0],sol[:,1]\n",
    "xlim([-1.5,1.5]),ylim([-1.5,1.5]),axes().set_aspect('equal') # Preferencias de la grafica\n",
    "#axes().set_aspect('equal')\n",
    "plot([0],[0],'o')\n",
    "plot(x,y,'o')\n",
    "show()"
   ]
  },
  {
   "cell_type": "code",
   "execution_count": 43,
   "metadata": {
    "collapsed": false,
    "nbpresent": {
     "id": "cb8fd110-1f89-40ad-973a-57f2b1c200c8"
    },
    "slideshow": {
     "slide_type": "subslide"
    }
   },
   "outputs": [
    {
     "data": {
      "text/plain": [
       "<function matplotlib.pyplot.show>"
      ]
     },
     "execution_count": 43,
     "metadata": {},
     "output_type": "execute_result"
    },
    {
     "data": {
      "image/png": "[encoded data removed]",
      "text/plain": [
       "<matplotlib.figure.Figure at 0x7fab2a014a10>"
      ]
     },
     "metadata": {},
     "output_type": "display_data"
    }
   ],
   "source": [
    "tiempo = linspace(0,2*pi,500)\n",
    "for num_trayectorias in range(10):\n",
    "    vx = rand()\n",
    "    vy = sqrt(1-vx**2)\n",
    "    sol = odeint(gravitacion,[1,0,vx,vy],tiempo)\n",
    "    x,y = sol[:,0],sol[:,1]\n",
    "    plot(x,y)\n",
    "xlim([-1.5,1.5]),ylim([-1.5,1.5]),axes().set_aspect('equal') # Preferencias de la grafica\n",
    "plot([0],[0],'o')\n",
    "show"
   ]
  },
  {
   "cell_type": "code",
   "execution_count": 44,
   "metadata": {
    "collapsed": false,
    "nbpresent": {
     "id": "350d5071-8b82-41ae-9d7d-c9d7c617c7fd"
    },
    "slideshow": {
     "slide_type": "subslide"
    }
   },
   "outputs": [
    {
     "data": {
      "image/png": "[encoded data removed]",
      "text/plain": [
       "<matplotlib.figure.Figure at 0x7fab2a4674d0>"
      ]
     },
     "metadata": {},
     "output_type": "display_data"
    }
   ],
   "source": [
    "tiempo = linspace(0,2*pi,100)\n",
    "vx = 0.5\n",
    "vy = sqrt(1-vx**2)\n",
    "sol = odeint(gravitacion,[1,0,vx,vy],tiempo)\n",
    "vx,vy = sol[:,2],sol[:,3]\n",
    "xlim([-2,2]),ylim([-2,2]),axes().set_aspect('equal') # Preferencias de la grafica\n",
    "#axes().set_aspect('equal')\n",
    "plot([0],[0],'o')\n",
    "plot(vx,vy)\n",
    "#grid(True)\n",
    "show()"
   ]
  },
  {
   "cell_type": "code",
   "execution_count": 45,
   "metadata": {
    "collapsed": false,
    "nbpresent": {
     "id": "888508c2-305b-45b6-8ae5-48fdfbac7e9f"
    },
    "slideshow": {
     "slide_type": "subslide"
    }
   },
   "outputs": [
    {
     "data": {
      "text/plain": [
       "<function matplotlib.pyplot.show>"
      ]
     },
     "execution_count": 45,
     "metadata": {},
     "output_type": "execute_result"
    },
    {
     "data": {
      "image/png": "[encoded data removed]",
      "text/plain": [
       "<matplotlib.figure.Figure at 0x7fab2a295450>"
      ]
     },
     "metadata": {},
     "output_type": "display_data"
    }
   ],
   "source": [
    "tiempo = linspace(0,2*pi,500)\n",
    "for num_trayectorias in range(10):\n",
    "    vx = rand()\n",
    "    vy = sqrt(1-vx**2)\n",
    "    sol = odeint(gravitacion,[1,0,vx,vy],tiempo)\n",
    "    vx,vy = sol[:,2],sol[:,3]\n",
    "    plot(vx,vy)\n",
    "xlim([-5,5]),ylim([-5,5]),axes().set_aspect('equal') # Preferencias de la grafica\n",
    "plot([0],[0],'o')\n",
    "show"
   ]
  }
 ],
 "metadata": {
  "celltoolbar": "Slideshow",
  "kernelspec": {
   "display_name": "Python [Root]",
   "language": "python",
   "name": "Python [Root]"
  },
  "language_info": {
   "codemirror_mode": {
    "name": "ipython",
    "version": 2
   },
   "file_extension": ".py",
   "mimetype": "text/x-python",
   "name": "python",
   "nbconvert_exporter": "python",
   "pygments_lexer": "ipython2",
   "version": "2.7.12"
  },
  "nbpresent": {
   "slides": {
    "4d1e4aef-603b-493c-b97b-2a2bd655a182": {
     "id": "4d1e4aef-603b-493c-b97b-2a2bd655a182",
     "prev": "dd9ef566-b845-4aab-a18c-0cd4c80a5731",
     "regions": {
      "c3f11178-7a62-4108-88ab-c5a7d0deaf3e": {
       "attrs": {
        "height": 0.8,
        "width": 0.8,
        "x": 0.1,
        "y": 0.1
       },
       "content": {
        "cell": "22474fd2-a53c-4a24-b29c-8796fdcc6620",
        "part": "whole"
       },
       "id": "c3f11178-7a62-4108-88ab-c5a7d0deaf3e"
      }
     }
    },
    "5548d61a-269c-4500-87ed-f48dacc927fb": {
     "id": "5548d61a-269c-4500-87ed-f48dacc927fb",
     "prev": "f9f25b44-82bf-4a6d-9364-02c493f5e572",
     "regions": {
      "06f9de6c-a775-4c51-a0c9-dde8744b8b67": {
       "attrs": {
        "height": 0.8,
        "width": 0.8,
        "x": 0.1,
        "y": 0.1
       },
       "content": {
        "cell": "814f3144-a46e-46ec-b356-4df5ceb31354",
        "part": "whole"
       },
       "id": "06f9de6c-a775-4c51-a0c9-dde8744b8b67"
      }
     }
    },
    "57a0a865-081d-4f78-aacd-6dfdc2f7a3cf": {
     "id": "57a0a865-081d-4f78-aacd-6dfdc2f7a3cf",
     "prev": "624f2af8-6ce9-42d6-9e8c-6ef5f17a33d4",
     "regions": {
      "0b0027c7-e65d-4c37-a5df-1dc04433e197": {
       "attrs": {
        "height": 0.8,
        "width": 0.8,
        "x": 0.1,
        "y": 0.1
       },
       "content": {
        "cell": "888508c2-305b-45b6-8ae5-48fdfbac7e9f",
        "part": "whole"
       },
       "id": "0b0027c7-e65d-4c37-a5df-1dc04433e197"
      }
     }
    },
    "61f142a8-03dd-4404-8fca-f3d0856aa3ef": {
     "id": "61f142a8-03dd-4404-8fca-f3d0856aa3ef",
     "prev": "96b3dc43-207d-45c8-9541-2e33ca31ed84",
     "regions": {
      "2c60a8e4-561e-45eb-a6a8-51d9e6571fb6": {
       "attrs": {
        "height": 0.8,
        "width": 0.8,
        "x": 0.1,
        "y": 0.1
       },
       "content": {
        "cell": "a05a0772-0a7e-4083-a3aa-e60753b6b2f4",
        "part": "whole"
       },
       "id": "2c60a8e4-561e-45eb-a6a8-51d9e6571fb6"
      }
     }
    },
    "624f2af8-6ce9-42d6-9e8c-6ef5f17a33d4": {
     "id": "624f2af8-6ce9-42d6-9e8c-6ef5f17a33d4",
     "prev": "a779ddb0-c12d-4eb6-a45a-a1b169eafb94",
     "regions": {
      "3b7e5ba6-5e01-45da-b6d8-696485118a54": {
       "attrs": {
        "height": 0.8,
        "width": 0.8,
        "x": 0.1,
        "y": 0.1
       },
       "content": {
        "cell": "350d5071-8b82-41ae-9d7d-c9d7c617c7fd",
        "part": "whole"
       },
       "id": "3b7e5ba6-5e01-45da-b6d8-696485118a54"
      }
     }
    },
    "96b3dc43-207d-45c8-9541-2e33ca31ed84": {
     "id": "96b3dc43-207d-45c8-9541-2e33ca31ed84",
     "prev": "4d1e4aef-603b-493c-b97b-2a2bd655a182",
     "regions": {
      "1cff203f-57ce-47fd-8e45-7ab73ae71e7c": {
       "attrs": {
        "height": 0.8,
        "width": 0.8,
        "x": 0.1,
        "y": 0.1
       },
       "content": {
        "cell": "365e4fe3-a0d1-4aa0-9ea4-34a650294db6",
        "part": "whole"
       },
       "id": "1cff203f-57ce-47fd-8e45-7ab73ae71e7c"
      }
     }
    },
    "a779ddb0-c12d-4eb6-a45a-a1b169eafb94": {
     "id": "a779ddb0-c12d-4eb6-a45a-a1b169eafb94",
     "prev": "61f142a8-03dd-4404-8fca-f3d0856aa3ef",
     "regions": {
      "8d8142bb-142e-4173-bff1-94c17851cd82": {
       "attrs": {
        "height": 0.8,
        "width": 0.8,
        "x": 0.1,
        "y": 0.1
       },
       "content": {
        "cell": "cb8fd110-1f89-40ad-973a-57f2b1c200c8",
        "part": "whole"
       },
       "id": "8d8142bb-142e-4173-bff1-94c17851cd82"
      }
     }
    },
    "cc26306f-cad1-46a2-9676-278e5759c586": {
     "id": "cc26306f-cad1-46a2-9676-278e5759c586",
     "prev": null,
     "regions": {
      "18bea5dd-98c5-4655-b6d2-9a57ac85f43f": {
       "attrs": {
        "height": 0.8,
        "width": 0.8,
        "x": 0.1,
        "y": 0.1
       },
       "content": {
        "cell": "12bc6259-dedc-4b56-846d-1137b763865f",
        "part": "whole"
       },
       "id": "18bea5dd-98c5-4655-b6d2-9a57ac85f43f"
      }
     }
    },
    "dd9ef566-b845-4aab-a18c-0cd4c80a5731": {
     "id": "dd9ef566-b845-4aab-a18c-0cd4c80a5731",
     "prev": "5548d61a-269c-4500-87ed-f48dacc927fb",
     "regions": {
      "7a2a6e8d-e2dc-4e83-8153-763fce97e5e3": {
       "attrs": {
        "height": 0.8,
        "width": 0.8,
        "x": 0.1,
        "y": 0.1
       },
       "content": {
        "cell": "087f6c8d-9bdc-4e84-b4af-1a54e391447f",
        "part": "whole"
       },
       "id": "7a2a6e8d-e2dc-4e83-8153-763fce97e5e3"
      }
     }
    },
    "f9f25b44-82bf-4a6d-9364-02c493f5e572": {
     "id": "f9f25b44-82bf-4a6d-9364-02c493f5e572",
     "prev": "cc26306f-cad1-46a2-9676-278e5759c586",
     "regions": {
      "e298679d-3d78-41f6-b968-5cdd4bcc1dd5": {
       "attrs": {
        "height": 0.8,
        "width": 0.8,
        "x": 0.1,
        "y": 0.1
       },
       "content": {
        "cell": "0905951f-144c-4b1b-87ee-11980fe4bda5",
        "part": "whole"
       },
       "id": "e298679d-3d78-41f6-b968-5cdd4bcc1dd5"
      }
     }
    },
    "ff97c562-4479-4aca-9976-79705ef4e83e": {
     "id": "ff97c562-4479-4aca-9976-79705ef4e83e",
     "prev": "57a0a865-081d-4f78-aacd-6dfdc2f7a3cf",
     "regions": {
      "57d85acc-c1a6-4b74-a524-c514836f496b": {
       "attrs": {
        "height": 0.8,
        "width": 0.8,
        "x": 0.1,
        "y": 0.1
       },
       "content": {
        "cell": "06494746-91c7-4326-a137-874f38eb07a9",
        "part": "whole"
       },
       "id": "57d85acc-c1a6-4b74-a524-c514836f496b"
      }
     }
    }
   },
   "themes": {}
  }
 },
 "nbformat": 4,
 "nbformat_minor": 0
}
